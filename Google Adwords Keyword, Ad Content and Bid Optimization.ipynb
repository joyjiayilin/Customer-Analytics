{
 "cells": [
  {
   "cell_type": "code",
   "execution_count": 86,
   "metadata": {},
   "outputs": [],
   "source": [
    "import pandas as pd\n",
    "import numpy as np\n",
    "import scipy\n",
    "from scipy.optimize import curve_fit"
   ]
  },
  {
   "cell_type": "markdown",
   "metadata": {},
   "source": [
    "## Part A: \n",
    "\n",
    "### Estimate the alpha and beta parameters for each of these four keywords for this firm. Hand-in: The eight numbers. No additional writeup required. Hint on checking your answers: For kw8322228, alpha should be between 70 and 76, beta should between 0.03 and 0.06, with a RSS of about 230.\n",
    "\n",
    "### To estimate the alpha and beta for a keyword you need to run nonlinear regression n.clicks as a function of bid.value and using the appropriate function form.  Nonlinear regression can be run in R using nls() and in Python using scipy.optimize.curve_fit.\n",
    "\n",
    "### As you may recall from previous HWs, nonlinear regression requires initial values for the parameters. For the initial value of alpha for a particular keyword, use the number of clicks at the highest bid in the dataset provided for that keyword. For the initial value of beta for each keyword, use the  reciprocal of the average bid  in the dataset provided for that keyword."
   ]
  },
  {
   "cell_type": "code",
   "execution_count": 8,
   "metadata": {},
   "outputs": [],
   "source": [
    "k1 = pd.read_csv(\"clicksdata.kw8322228.csv\")\n",
    "k1 = k1.iloc[:,1:]\n",
    "\n",
    "k2 = pd.read_csv(\"clicksdata.kw8322392.csv\")\n",
    "k2 = k2.iloc[:,1:]\n",
    "\n",
    "k3 = pd.read_csv(\"clicksdata.kw8322393.csv\")\n",
    "k3 = k3.iloc[:,1:]\n",
    "\n",
    "k4 = pd.read_csv(\"clicksdata.kw8322445.csv\")\n",
    "k4 = k4.iloc[:,1:]"
   ]
  },
  {
   "cell_type": "code",
   "execution_count": 28,
   "metadata": {},
   "outputs": [],
   "source": [
    "def find_alpha_beta(bid_value, alpha, beta):\n",
    "    return alpha * (1 - np.exp(-beta * bid_value))\n",
    "\n",
    "def est_params(k):\n",
    "    x = k['bid.value']\n",
    "    y = k['n.clicks']\n",
    "\n",
    "    init_alpha = k.iloc[-1]['n.clicks']\n",
    "    init_beta = 1 / np.mean(k['bid.value'])\n",
    "\n",
    "    params, params_covariance = curve_fit(find_alpha_beta, x, y, p0 = [init_alpha, init_beta])\n",
    "\n",
    "    return params[0], params[1]"
   ]
  },
  {
   "cell_type": "code",
   "execution_count": 29,
   "metadata": {},
   "outputs": [
    {
     "name": "stdout",
     "output_type": "stream",
     "text": [
      "kw8322228: alpha =  74.09086171091433 , beta =  0.03944902761835571\n",
      "kw8322392: alpha =  156.4398020518242 , beta =  0.15008283809726447\n",
      "kw8322393: alpha =  104.79929301898942 , beta =  0.07971659393008784\n",
      "kw8322445: alpha =  188.1112794219063 , beta =  0.432291894875094\n"
     ]
    }
   ],
   "source": [
    "print('kw8322228: alpha = ', est_params(k1)[0], ', beta = ', est_params(k1)[1])\n",
    "print('kw8322392: alpha = ', est_params(k2)[0], ', beta = ', est_params(k2)[1])\n",
    "print('kw8322393: alpha = ', est_params(k3)[0], ', beta = ', est_params(k3)[1])\n",
    "print('kw8322445: alpha = ', est_params(k4)[0], ', beta = ', est_params(k4)[1])"
   ]
  },
  {
   "cell_type": "markdown",
   "metadata": {},
   "source": [
    "## Part B:\n",
    "\n",
    "### Assume that you have no budget constraint. Using the alpha, beta parameters from Part A and the LTV and conversion rate values, estimate the optimal bids for each of the four keywords. Hand-in: the optimal bid value, the corresponding profit and the corresponding total expenditure for each of the four keywords. No additional writeup required. "
   ]
  },
  {
   "cell_type": "code",
   "execution_count": 33,
   "metadata": {},
   "outputs": [],
   "source": [
    "ltv = pd.read_excel('hw-kw-ltv-conv.rate-data.xlsx')"
   ]
  },
  {
   "cell_type": "code",
   "execution_count": 111,
   "metadata": {},
   "outputs": [],
   "source": [
    "def profit(bid_value, alpha, beta, ltv, conv_rate):\n",
    "    return alpha * (1 - np.exp(-beta * bid_value)) * (ltv * conv_rate - bid_value)\n",
    "\n",
    "def optimal_bid_value(k, k_name):\n",
    "    alpha, beta = est_params(k)\n",
    "    \n",
    "    ltv_ = ltv[ltv['keyword'] == k_name]['ltv'].iloc[0]\n",
    "    \n",
    "    conv_rate = ltv[ltv['keyword'] == k_name]['conv.rate'].iloc[0]\n",
    "    bid_value = k['bid.value']\n",
    "\n",
    "    x = bid_value\n",
    "    y = profit(bid_value, alpha, beta, ltv_, conv_rate)\n",
    "\n",
    "    fm = lambda x: -profit(x, alpha, beta, ltv_, conv_rate)\n",
    "    optimal_bid = scipy.optimize.minimize_scalar(fm, bounds=(0,50)).x\n",
    "    \n",
    "    return alpha, beta, ltv_, conv_rate, optimal_bid\n",
    "\n",
    "def expenditure(bid_value, alpha, beta):\n",
    "    return bid_value * alpha * (1 - np.exp(-beta * bid_value))"
   ]
  },
  {
   "cell_type": "code",
   "execution_count": 65,
   "metadata": {},
   "outputs": [
    {
     "name": "stdout",
     "output_type": "stream",
     "text": [
      "kw8322228 optimal bid:  34.127622021575114\n",
      "kw8322228 profit:  3950.4569566203595\n",
      "kw8322228 expenditure:  1870.6154231292371\n"
     ]
    }
   ],
   "source": [
    "alpha, beta, ltv_, conv_rate, optimal_bid = optimal_bid_value(k1, 'kw8322228')\n",
    "expenditure_1 = expenditure(optimal_bid, alpha, beta)\n",
    "\n",
    "print('kw8322228 optimal bid: ', optimal_bid)\n",
    "print('kw8322228 profit: ', profit(optimal_bid, alpha, beta, ltv_, conv_rate))\n",
    "print('kw8322228 expenditure: ', expenditure_1)"
   ]
  },
  {
   "cell_type": "code",
   "execution_count": 66,
   "metadata": {},
   "outputs": [
    {
     "name": "stdout",
     "output_type": "stream",
     "text": [
      "kw8322392 optimal bid:  13.563448218393251\n",
      "kw8322392 profit:  6032.90219999242\n",
      "kw8322392 expenditure:  1844.7546824448818\n"
     ]
    }
   ],
   "source": [
    "alpha, beta, ltv_, conv_rate, optimal_bid = optimal_bid_value(k2, 'kw8322392')\n",
    "expenditure_2 = expenditure(optimal_bid, alpha, beta)\n",
    "\n",
    "print('kw8322392 optimal bid: ', optimal_bid)\n",
    "print('kw8322392 profit: ', profit(optimal_bid, alpha, beta, ltv_, conv_rate))\n",
    "print('kw8322392 expenditure: ', expenditure_2)"
   ]
  },
  {
   "cell_type": "code",
   "execution_count": 67,
   "metadata": {},
   "outputs": [
    {
     "name": "stdout",
     "output_type": "stream",
     "text": [
      "kw8322393 optimal bid:  22.43386794519653\n",
      "kw8322393 profit:  5451.614107514758\n",
      "kw8322393 expenditure:  1957.8736021122334\n"
     ]
    }
   ],
   "source": [
    "alpha, beta, ltv_, conv_rate, optimal_bid = optimal_bid_value(k3, 'kw8322393')\n",
    "expenditure_3 = expenditure(optimal_bid, alpha, beta)\n",
    "\n",
    "print('kw8322393 optimal bid: ', optimal_bid)\n",
    "print('kw8322393 profit: ', profit(optimal_bid, alpha, beta, ltv_, conv_rate))\n",
    "print('kw8322393 expenditure: ', expenditure_3)"
   ]
  },
  {
   "cell_type": "code",
   "execution_count": 68,
   "metadata": {},
   "outputs": [
    {
     "name": "stdout",
     "output_type": "stream",
     "text": [
      "kw8322445 optimal bid:  5.816956121646157\n",
      "kw8322445 profit:  4544.188935686043\n",
      "kw8322445 expenditure:  1005.7186591361896\n"
     ]
    }
   ],
   "source": [
    "alpha, beta, ltv_, conv_rate, optimal_bid = optimal_bid_value(k4, 'kw8322445')\n",
    "expenditure_4 = expenditure(optimal_bid, alpha, beta)\n",
    "\n",
    "print('kw8322445 optimal bid: ', optimal_bid)\n",
    "print('kw8322445 profit: ', profit(optimal_bid, alpha, beta, ltv_, conv_rate))\n",
    "print('kw8322445 expenditure: ', expenditure_4)"
   ]
  },
  {
   "cell_type": "code",
   "execution_count": 69,
   "metadata": {},
   "outputs": [
    {
     "name": "stdout",
     "output_type": "stream",
     "text": [
      "Total expenditure: 6678.962366822542\n"
     ]
    }
   ],
   "source": [
    "print('Total expenditure:', expenditure_1 + expenditure_2 + expenditure_3 + expenditure_4)\n"
   ]
  },
  {
   "cell_type": "markdown",
   "metadata": {},
   "source": [
    "## Part C: \n",
    "\n",
    "### Assume now that you have a budget constraint of $\\$3000$ across these four keywords. Compute the optimal bid amounts and the corresponding expenditures for the keywords. Note this optimization in its most obvious form involves nonlinear functions and  nonlinear constraints. Decide on the initial value vector x0 and the solver on your own.  Hand-in: the optimal bid value, the corresponding profit and the corresponding total expenditure for each of the four  keywords."
   ]
  },
  {
   "cell_type": "code",
   "execution_count": 125,
   "metadata": {},
   "outputs": [],
   "source": [
    "k = [k1, k2, k3, k4]\n",
    "k_name = ['kw8322228', 'kw8322392', 'kw8322393', 'kw8322445']\n",
    "\n",
    "def total_profit(X):\n",
    "    profit_k = []\n",
    "    for i in range(len(k)):\n",
    "        alpha, beta = est_params(k[i])\n",
    "        bid_value = X[i]\n",
    "        ltv_ = ltv[ltv['keyword'] == k_name[i]]['ltv'].iloc[0]\n",
    "        conv_rate = ltv[ltv['keyword'] == k_name[i]]['conv.rate'].iloc[0]\n",
    "        profit_k_i = profit(bid_value, alpha, beta, ltv_, conv_rate)\n",
    "        profit_k.append(-profit_k_i)\n",
    "    return np.sum(profit_k)\n",
    "\n",
    "def total_expend(X):\n",
    "    expenditure_k = []\n",
    "    for i in range(len(k)):\n",
    "        alpha, beta = est_params(k[i])\n",
    "        bid_value = X[i]\n",
    "        ltv_ = ltv[ltv['keyword'] == k_name[i]]['ltv'].iloc[0]\n",
    "        conv_rate = ltv[ltv['keyword'] == k_name[i]]['conv.rate'].iloc[0]\n",
    "        expenditure_k_i = expenditure(bid_value, alpha, beta)\n",
    "        expenditure_k.append(expenditure_k_i)\n",
    "    return np.sum(expenditure_k)"
   ]
  },
  {
   "cell_type": "code",
   "execution_count": 127,
   "metadata": {},
   "outputs": [],
   "source": [
    "budget = 3000\n",
    "budget_constraint_object = scipy.optimize.NonlinearConstraint(total_expend, 0, budget)\n",
    "bounds_object = ((0,None),(0,None),(0,None),(0,None))\n",
    "x0 = [0,0,0,0]\n",
    "\n",
    "with_constraint = scipy.optimize.minimize(total_profit, x0=x0, method='trust-constr', bounds=bounds_object, constraints=budget_constraint_object)"
   ]
  },
  {
   "cell_type": "code",
   "execution_count": 173,
   "metadata": {},
   "outputs": [],
   "source": [
    "def profit_expenditure_with_constraints(i):\n",
    "    alpha,beta = est_params(k[i])\n",
    "    ltv_ = ltv[ltv['keyword'] == k_name[i]]['ltv'].iloc[0]\n",
    "    conv_rate = ltv[ltv['keyword'] == k_name[i]]['conv.rate'].iloc[0]\n",
    "    bid_value = with_constraint.x[i]\n",
    "    \n",
    "    profit_k = profit(bid_value, alpha, beta, ltv_, conv_rate)\n",
    "    expenditure_k = expenditure(bid_value, alpha, beta)\n",
    "    return bid_value, profit_k, expenditure_k"
   ]
  },
  {
   "cell_type": "code",
   "execution_count": 183,
   "metadata": {},
   "outputs": [
    {
     "name": "stdout",
     "output_type": "stream",
     "text": [
      "kw8322228 :\n",
      "Optimal bid value:  17.924260684647198\n",
      "Profit:  3315.5073988114336\n",
      "Expenditure:  673.208962950447\n"
     ]
    }
   ],
   "source": [
    "bid_value, profit_k, expenditure_k = profit_expenditure_with_constraints(0)\n",
    "\n",
    "print(k_name[0], ':')\n",
    "print('Optimal bid value: ', bid_value)\n",
    "print('Profit: ', profit_k)\n",
    "print('Expenditure: ', expenditure_k)"
   ]
  },
  {
   "cell_type": "code",
   "execution_count": 182,
   "metadata": {},
   "outputs": [
    {
     "name": "stdout",
     "output_type": "stream",
     "text": [
      "kw8322392 :\n",
      "Optimal bid value:  8.118451293151496\n",
      "Profit:  5487.232095363949\n",
      "Expenditure:  894.5068508342152\n"
     ]
    }
   ],
   "source": [
    "bid_value, profit_k, expenditure_k = profit_expenditure_with_constraints(1)\n",
    "\n",
    "print(k_name[1], ':')\n",
    "print('Optimal bid value: ', bid_value)\n",
    "print('Profit: ', profit_k)\n",
    "print('Expenditure: ', expenditure_k)"
   ]
  },
  {
   "cell_type": "code",
   "execution_count": 181,
   "metadata": {},
   "outputs": [
    {
     "name": "stdout",
     "output_type": "stream",
     "text": [
      "kw8322393 :\n",
      "Optimal bid value:  12.82828798861683\n",
      "Profit:  4836.614288442379\n",
      "Expenditure:  860.8853494724577\n"
     ]
    }
   ],
   "source": [
    "bid_value, profit_k, expenditure_k = profit_expenditure_with_constraints(2)\n",
    "\n",
    "print(k_name[2], ':')\n",
    "print('Optimal bid value: ', bid_value)\n",
    "print('Profit: ', profit_k)\n",
    "print('Expenditure: ', expenditure_k)"
   ]
  },
  {
   "cell_type": "code",
   "execution_count": 180,
   "metadata": {},
   "outputs": [
    {
     "name": "stdout",
     "output_type": "stream",
     "text": [
      "kw8322445 :\n",
      "Optimal bid value:  3.775699809199757\n",
      "Profit:  4286.482741767184\n",
      "Expenditure:  571.3988328468971\n"
     ]
    }
   ],
   "source": [
    "bid_value, profit_k, expenditure_k = profit_expenditure_with_constraints(3)\n",
    "\n",
    "print(k_name[3], ':')\n",
    "print('Optimal bid value: ', bid_value)\n",
    "print('Profit: ', profit_k)\n",
    "print('Expenditure: ', expenditure_k)"
   ]
  },
  {
   "cell_type": "code",
   "execution_count": 184,
   "metadata": {},
   "outputs": [
    {
     "name": "stdout",
     "output_type": "stream",
     "text": [
      "Total profit:  17925.836524384948\n",
      "Total expenditure:  [2999.9999961]\n"
     ]
    }
   ],
   "source": [
    "print(\"Total profit: \", -1 * with_constraint.fun)\n",
    "print(\"Total expenditure: \", with_constraint.constr[0])"
   ]
  },
  {
   "cell_type": "markdown",
   "metadata": {},
   "source": [
    "## Part D (Optional for Extra Credit): \n",
    "\n",
    "### Look back at the results that you got for Part A and Part B above. You should notice that across the four keywords, there is a relationship between LTV and alpha, a relationship between LTV and beta, and a relationship between LTV and the optimal bid. What are these relationships? What are the likely reasons for each relationship? Hand-in: Your identification of the nature of these relationships and your likely reasons. Please do not spend more than 10 minutes on this part. The relationship is easy to spot but the explanation is much less obvious. If one cannot propose the explanation in under 10 minutes, it is  unlikely to happen by spending more time on this. This question is on marketing and consumer psychology rather that statistics. Hint: it has to do with consumer segments and the fact that these are generic, non-branded keywords."
   ]
  },
  {
   "cell_type": "markdown",
   "metadata": {},
   "source": [
    "Keywords with higher LTVs likely have higher alphas because they tend to attract customers with inherently higher conversion rates. These customers are more engaged and more interested in the offerings associated with these keywords.\n",
    "\n",
    "Keywords with higher LTVs tend to have lower beta values because high LTV customers are more likely to convert based on the inherent appeal of the product or service rather than the bid amount. Thus, the increase in conversion rate with increasing bid (sensitivity) is less pronounced.\n",
    "\n",
    "Keywords with higher LTVs generally have higher optimal bids because investing more in bidding for these keywords is profitable, as these customers bring more value over their lifetime. Higher bids can maximize exposure and conversions for these valuable customer segments, leading to higher overall profits.\n",
    "\n",
    "Since these are generic, non-branded keywords, they target different consumer segments. High LTV customers might be looking for quality or specific features rather than being price-sensitive. Therefore, their conversion rates are less dependent on bid amounts, justifying higher optimal bids due to their long-term value."
   ]
  },
  {
   "cell_type": "markdown",
   "metadata": {},
   "source": [
    "## Part E: Using generative AI tools\n",
    "\n",
    "## (a)\n",
    "A. curve_fit\n",
    "C. scipy.optimize.minimize, set method='trust-constr', set up the bounds so the lower limit is zero, pass the optimize.NonlinearConstraint  method to scipy.optimize.minimize via the constraints argument\n",
    "\n",
    "## (b)\n",
    "ChatGpt\n",
    "\n",
    "## (c)"
   ]
  },
  {
   "cell_type": "code",
   "execution_count": null,
   "metadata": {},
   "outputs": [],
   "source": [
    "# A\n",
    "params, params_covariance = curve_fit(linear_model, x_data, y_data)\n",
    "\n",
    "print(\"Fitted parameters:\", params)"
   ]
  },
  {
   "cell_type": "code",
   "execution_count": null,
   "metadata": {},
   "outputs": [],
   "source": [
    "# C\n",
    "result = optimize.minimize(\n",
    "    objective_function,\n",
    "    initial_guess,\n",
    "    method='trust-constr',\n",
    "    bounds=bounds,\n",
    "    constraints=[budget_constraint]\n",
    ")"
   ]
  }
 ],
 "metadata": {
  "kernelspec": {
   "display_name": "Python 3 (ipykernel)",
   "language": "python",
   "name": "python3"
  },
  "language_info": {
   "codemirror_mode": {
    "name": "ipython",
    "version": 3
   },
   "file_extension": ".py",
   "mimetype": "text/x-python",
   "name": "python",
   "nbconvert_exporter": "python",
   "pygments_lexer": "ipython3",
   "version": "3.9.12"
  }
 },
 "nbformat": 4,
 "nbformat_minor": 2
}
