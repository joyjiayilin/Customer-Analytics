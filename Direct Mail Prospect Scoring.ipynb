{
 "cells": [
  {
   "cell_type": "code",
   "execution_count": 5,
   "metadata": {},
   "outputs": [],
   "source": [
    "import pandas as pd\n",
    "import numpy as np\n",
    "import matplotlib.pyplot as plt\n",
    "import statsmodels.api as sm\n",
    "from scipy.optimize import curve_fit"
   ]
  },
  {
   "cell_type": "markdown",
   "metadata": {},
   "source": [
    "## 1. Run a logistic regression on the estimation list of 200 persons predicting y as a function of gender and the seven hotline variables and the intercept (constant) term. Do not eliminate coefficients which appear statistically insignificant. Hand-in: The score equation for t from the logistic regression."
   ]
  },
  {
   "cell_type": "code",
   "execution_count": 132,
   "metadata": {},
   "outputs": [],
   "source": [
    "estimation = pd.read_excel(\"prospectscoringhw.xlsx\", sheet_name = 'Estimation_data')\n",
    "holdout = pd.read_excel(\"prospectscoringhw.xlsx\", sheet_name = 'Holdout_data')"
   ]
  },
  {
   "cell_type": "code",
   "execution_count": 26,
   "metadata": {},
   "outputs": [
    {
     "name": "stdout",
     "output_type": "stream",
     "text": [
      "Optimization terminated successfully.\n",
      "         Current function value: 0.579248\n",
      "         Iterations 6\n"
     ]
    }
   ],
   "source": [
    "y_train = estimation['y']\n",
    "X_train = estimation.drop(['y'], axis = 1)\n",
    "X_train = sm.add_constant(X_train)\n",
    "\n",
    "m1 = sm.Logit(y_train, X_train)\n",
    "\n",
    "result1 = m1.fit()"
   ]
  },
  {
   "cell_type": "code",
   "execution_count": 38,
   "metadata": {},
   "outputs": [
    {
     "name": "stdout",
     "output_type": "stream",
     "text": [
      "Score equation for t:\n",
      "Logit(p) = -10.3659 - 0.0472*Gender + 0.0060*foodwebsites + 0.0439*travelwebsites + 0.0698*restaurantexp + 0.0341*travelexp + 0.0089*entertainmentexp - 0.0009*incm - 0.0008*ethnicdivneigh\n"
     ]
    }
   ],
   "source": [
    "coefficients1 = result1.params.drop('const')\n",
    "\n",
    "intercept1 = result1.params['const']\n",
    "\n",
    "variable_names1 = coefficients1.index.tolist()\n",
    "\n",
    "equation1 = f'Logit(p) = {intercept1:.4f}'\n",
    "\n",
    "for i, coef in enumerate(coefficients1):\n",
    "    sign = '+' if coef >= 0 else '-' \n",
    "    equation1 += f' {sign} {abs(coef):.4f}*{variable_names[i]}'\n",
    "\n",
    "print(\"Score equation for t:\")\n",
    "print(equation1)"
   ]
  },
  {
   "cell_type": "markdown",
   "metadata": {},
   "source": [
    "## 2. Evaluate the score function for each person in the holdout list of 300 persons. Based on this, compute the following for each person: (1) the predicted response probability r, (2) the consequent lift, which is obtained by dividing the predicted response probability by the average response rate in the estimation list. No Hand-in."
   ]
  },
  {
   "cell_type": "code",
   "execution_count": 110,
   "metadata": {},
   "outputs": [],
   "source": [
    "y_test = holdout['y']\n",
    "X_test = holdout.drop(['y'], axis = 1)\n",
    "\n",
    "X_test['score'] = np.sum(X_test * coefficients1, axis = 1) + intercept"
   ]
  },
  {
   "cell_type": "markdown",
   "metadata": {},
   "source": [
    "### (1)"
   ]
  },
  {
   "cell_type": "code",
   "execution_count": 55,
   "metadata": {},
   "outputs": [
    {
     "data": {
      "text/plain": [
       "0      0.525970\n",
       "1      0.554112\n",
       "2      0.320354\n",
       "3      0.723885\n",
       "4      0.268740\n",
       "         ...   \n",
       "295    0.251233\n",
       "296    0.073607\n",
       "297    0.723784\n",
       "298    0.272157\n",
       "299    0.361369\n",
       "Name: r, Length: 300, dtype: float64"
      ]
     },
     "execution_count": 55,
     "metadata": {},
     "output_type": "execute_result"
    }
   ],
   "source": [
    "X_test['r'] = np.exp(X_test['score']) / (1 + np.exp(X_test['score']))\n",
    "X_test['r']"
   ]
  },
  {
   "cell_type": "markdown",
   "metadata": {},
   "source": [
    "### (2)"
   ]
  },
  {
   "cell_type": "code",
   "execution_count": 57,
   "metadata": {},
   "outputs": [
    {
     "data": {
      "text/plain": [
       "0      1.461026\n",
       "1      1.539201\n",
       "2      0.889874\n",
       "3      2.010792\n",
       "4      0.746499\n",
       "         ...   \n",
       "295    0.697870\n",
       "296    0.204465\n",
       "297    2.010512\n",
       "298    0.755993\n",
       "299    1.003803\n",
       "Name: lift, Length: 300, dtype: float64"
      ]
     },
     "execution_count": 57,
     "metadata": {},
     "output_type": "execute_result"
    }
   ],
   "source": [
    "X_test['lift'] = X_test['r'] / np.mean(estimation['y']) \n",
    "X_test['lift']"
   ]
  },
  {
   "cell_type": "markdown",
   "metadata": {},
   "source": [
    "## 3. Sort all the 300 persons in the holdout list in decreasing order of lift as is done in slide 30. No Hand-in. "
   ]
  },
  {
   "cell_type": "code",
   "execution_count": 58,
   "metadata": {},
   "outputs": [
    {
     "data": {
      "text/html": [
       "<div>\n",
       "<style scoped>\n",
       "    .dataframe tbody tr th:only-of-type {\n",
       "        vertical-align: middle;\n",
       "    }\n",
       "\n",
       "    .dataframe tbody tr th {\n",
       "        vertical-align: top;\n",
       "    }\n",
       "\n",
       "    .dataframe thead th {\n",
       "        text-align: right;\n",
       "    }\n",
       "</style>\n",
       "<table border=\"1\" class=\"dataframe\">\n",
       "  <thead>\n",
       "    <tr style=\"text-align: right;\">\n",
       "      <th></th>\n",
       "      <th>Gender</th>\n",
       "      <th>foodwebsites</th>\n",
       "      <th>travelwebsites</th>\n",
       "      <th>restaurantexp</th>\n",
       "      <th>travelexp</th>\n",
       "      <th>entertainmentexp</th>\n",
       "      <th>incm</th>\n",
       "      <th>ethnicdivneigh</th>\n",
       "      <th>score</th>\n",
       "      <th>r</th>\n",
       "      <th>lift</th>\n",
       "    </tr>\n",
       "  </thead>\n",
       "  <tbody>\n",
       "    <tr>\n",
       "      <th>131</th>\n",
       "      <td>1</td>\n",
       "      <td>317</td>\n",
       "      <td>57</td>\n",
       "      <td>70</td>\n",
       "      <td>63</td>\n",
       "      <td>12</td>\n",
       "      <td>26</td>\n",
       "      <td>0</td>\n",
       "      <td>1.100660</td>\n",
       "      <td>0.750384</td>\n",
       "      <td>2.084399</td>\n",
       "    </tr>\n",
       "    <tr>\n",
       "      <th>243</th>\n",
       "      <td>0</td>\n",
       "      <td>321</td>\n",
       "      <td>57</td>\n",
       "      <td>70</td>\n",
       "      <td>63</td>\n",
       "      <td>0</td>\n",
       "      <td>28</td>\n",
       "      <td>0</td>\n",
       "      <td>1.063076</td>\n",
       "      <td>0.743278</td>\n",
       "      <td>2.064661</td>\n",
       "    </tr>\n",
       "    <tr>\n",
       "      <th>191</th>\n",
       "      <td>0</td>\n",
       "      <td>315</td>\n",
       "      <td>57</td>\n",
       "      <td>70</td>\n",
       "      <td>63</td>\n",
       "      <td>0</td>\n",
       "      <td>0</td>\n",
       "      <td>14</td>\n",
       "      <td>1.040887</td>\n",
       "      <td>0.739021</td>\n",
       "      <td>2.052836</td>\n",
       "    </tr>\n",
       "    <tr>\n",
       "      <th>159</th>\n",
       "      <td>0</td>\n",
       "      <td>311</td>\n",
       "      <td>57</td>\n",
       "      <td>70</td>\n",
       "      <td>63</td>\n",
       "      <td>0</td>\n",
       "      <td>0</td>\n",
       "      <td>0</td>\n",
       "      <td>1.028721</td>\n",
       "      <td>0.736668</td>\n",
       "      <td>2.046299</td>\n",
       "    </tr>\n",
       "    <tr>\n",
       "      <th>19</th>\n",
       "      <td>1</td>\n",
       "      <td>314</td>\n",
       "      <td>57</td>\n",
       "      <td>70</td>\n",
       "      <td>63</td>\n",
       "      <td>0</td>\n",
       "      <td>0</td>\n",
       "      <td>0</td>\n",
       "      <td>0.999388</td>\n",
       "      <td>0.730938</td>\n",
       "      <td>2.030384</td>\n",
       "    </tr>\n",
       "    <tr>\n",
       "      <th>...</th>\n",
       "      <td>...</td>\n",
       "      <td>...</td>\n",
       "      <td>...</td>\n",
       "      <td>...</td>\n",
       "      <td>...</td>\n",
       "      <td>...</td>\n",
       "      <td>...</td>\n",
       "      <td>...</td>\n",
       "      <td>...</td>\n",
       "      <td>...</td>\n",
       "      <td>...</td>\n",
       "    </tr>\n",
       "    <tr>\n",
       "      <th>211</th>\n",
       "      <td>0</td>\n",
       "      <td>406</td>\n",
       "      <td>39</td>\n",
       "      <td>0</td>\n",
       "      <td>63</td>\n",
       "      <td>0</td>\n",
       "      <td>26</td>\n",
       "      <td>0</td>\n",
       "      <td>-4.104896</td>\n",
       "      <td>0.016224</td>\n",
       "      <td>0.045067</td>\n",
       "    </tr>\n",
       "    <tr>\n",
       "      <th>152</th>\n",
       "      <td>0</td>\n",
       "      <td>291</td>\n",
       "      <td>39</td>\n",
       "      <td>10</td>\n",
       "      <td>52</td>\n",
       "      <td>0</td>\n",
       "      <td>0</td>\n",
       "      <td>28</td>\n",
       "      <td>-4.468435</td>\n",
       "      <td>0.011335</td>\n",
       "      <td>0.031487</td>\n",
       "    </tr>\n",
       "    <tr>\n",
       "      <th>96</th>\n",
       "      <td>0</td>\n",
       "      <td>159</td>\n",
       "      <td>57</td>\n",
       "      <td>15</td>\n",
       "      <td>41</td>\n",
       "      <td>0</td>\n",
       "      <td>26</td>\n",
       "      <td>0</td>\n",
       "      <td>-4.493316</td>\n",
       "      <td>0.011060</td>\n",
       "      <td>0.030722</td>\n",
       "    </tr>\n",
       "    <tr>\n",
       "      <th>285</th>\n",
       "      <td>1</td>\n",
       "      <td>354</td>\n",
       "      <td>30</td>\n",
       "      <td>10</td>\n",
       "      <td>52</td>\n",
       "      <td>0</td>\n",
       "      <td>0</td>\n",
       "      <td>0</td>\n",
       "      <td>-4.511036</td>\n",
       "      <td>0.010868</td>\n",
       "      <td>0.030188</td>\n",
       "    </tr>\n",
       "    <tr>\n",
       "      <th>34</th>\n",
       "      <td>0</td>\n",
       "      <td>382</td>\n",
       "      <td>30</td>\n",
       "      <td>10</td>\n",
       "      <td>41</td>\n",
       "      <td>0</td>\n",
       "      <td>13</td>\n",
       "      <td>14</td>\n",
       "      <td>-4.695805</td>\n",
       "      <td>0.009051</td>\n",
       "      <td>0.025141</td>\n",
       "    </tr>\n",
       "  </tbody>\n",
       "</table>\n",
       "<p>300 rows × 11 columns</p>\n",
       "</div>"
      ],
      "text/plain": [
       "     Gender  foodwebsites  travelwebsites  restaurantexp  travelexp  \\\n",
       "131       1           317              57             70         63   \n",
       "243       0           321              57             70         63   \n",
       "191       0           315              57             70         63   \n",
       "159       0           311              57             70         63   \n",
       "19        1           314              57             70         63   \n",
       "..      ...           ...             ...            ...        ...   \n",
       "211       0           406              39              0         63   \n",
       "152       0           291              39             10         52   \n",
       "96        0           159              57             15         41   \n",
       "285       1           354              30             10         52   \n",
       "34        0           382              30             10         41   \n",
       "\n",
       "     entertainmentexp  incm  ethnicdivneigh     score         r      lift  \n",
       "131                12    26               0  1.100660  0.750384  2.084399  \n",
       "243                 0    28               0  1.063076  0.743278  2.064661  \n",
       "191                 0     0              14  1.040887  0.739021  2.052836  \n",
       "159                 0     0               0  1.028721  0.736668  2.046299  \n",
       "19                  0     0               0  0.999388  0.730938  2.030384  \n",
       "..                ...   ...             ...       ...       ...       ...  \n",
       "211                 0    26               0 -4.104896  0.016224  0.045067  \n",
       "152                 0     0              28 -4.468435  0.011335  0.031487  \n",
       "96                  0    26               0 -4.493316  0.011060  0.030722  \n",
       "285                 0     0               0 -4.511036  0.010868  0.030188  \n",
       "34                  0    13              14 -4.695805  0.009051  0.025141  \n",
       "\n",
       "[300 rows x 11 columns]"
      ]
     },
     "execution_count": 58,
     "metadata": {},
     "output_type": "execute_result"
    }
   ],
   "source": [
    "X_test = X_test.sort_values(by = 'lift', ascending=False)\n",
    "X_test"
   ]
  },
  {
   "cell_type": "markdown",
   "metadata": {},
   "source": [
    "## 4. Plot the curve for marginal response rate vs number of solicitations made, like in the chart that appears on slide 31. The “marginal response rate” of the person at rank n is the nth-highest predicted response probability r. The plot should have the rank on the horizontal axis and the corresponding r on the vertical axis. Hand-in: the chart. "
   ]
  },
  {
   "cell_type": "code",
   "execution_count": 60,
   "metadata": {},
   "outputs": [
    {
     "data": {
      "image/png": "[encoded data removed]",
      "text/plain": [
       "<Figure size 432x288 with 1 Axes>"
      ]
     },
     "metadata": {
      "needs_background": "light"
     },
     "output_type": "display_data"
    }
   ],
   "source": [
    "y = np.array(X_test['r'])\n",
    "\n",
    "plt.xlabel('Rank')\n",
    "plt.ylabel('Marginal Response Rate')\n",
    "plt.plot(y)\n",
    "plt.show()"
   ]
  },
  {
   "cell_type": "markdown",
   "metadata": {},
   "source": [
    "## 5. Suppose average LT Customer equity is $\\$30$, and the solicitation cost is $\\$12$. Use the marginal cost rule to calculate how many of the best prospects in the holdout list Melrose should contact. Hand-in: your calculations and final answer. "
   ]
  },
  {
   "cell_type": "code",
   "execution_count": 67,
   "metadata": {},
   "outputs": [
    {
     "data": {
      "text/plain": [
       "121"
      ]
     },
     "execution_count": 67,
     "metadata": {},
     "output_type": "execute_result"
    }
   ],
   "source": [
    "equity = 30\n",
    "cost = 12\n",
    "margin = cost/equity\n",
    "\n",
    "len(X_test[X_test['r'] > margin])"
   ]
  },
  {
   "cell_type": "markdown",
   "metadata": {},
   "source": [
    "## 6. Compute the cumulative sum (aka running sum) of the predicted response probability r when the persons are sorted as in Question 3. This cumulative sum at rank n gives the expected number of conversions or positive responses if the firm were to contact the n customers with the highest r. Plot the curve of the expected number of positive responses vs number of solicitations made, like in the chart that appears on slide 33. You will notice that the curve does not rise as fast as one would expect from the usual 80/20 rule. Explain why the curve might be of this shape here. Hand-in: the chart and your explanation. "
   ]
  },
  {
   "cell_type": "code",
   "execution_count": 83,
   "metadata": {},
   "outputs": [
    {
     "data": {
      "image/png": "[encoded data removed]",
      "text/plain": [
       "<Figure size 432x288 with 1 Axes>"
      ]
     },
     "metadata": {
      "needs_background": "light"
     },
     "output_type": "display_data"
    }
   ],
   "source": [
    "r_cum = np.array(X_test['r'].cumsum())\n",
    "\n",
    "plt.xlabel('Rank')\n",
    "plt.ylabel('Expected number of positive responses')\n",
    "plt.plot(r_cum)\n",
    "plt.show()"
   ]
  },
  {
   "cell_type": "markdown",
   "metadata": {},
   "source": [
    "The curve does not rise as fast as one would expect from the usual 80/20 rule potentially because of various factors including noise, data limitations, imperfect modeling of response probabilities, and less engaged customers, while the biased coefficients arising from the potentially unrepresentative holdout list could lead to suboptimal targeting decisions."
   ]
  },
  {
   "cell_type": "markdown",
   "metadata": {},
   "source": [
    "## 7. Assume that the firm has enough raw Belgian chocolate to make only 40 boxes of the pralines offered as part of the introductory offer. Use the limited supply rule to calculate how many of the best prospects in the holdout list Melrose should send solicitations to. Hand-in: your calculations and final answer."
   ]
  },
  {
   "cell_type": "code",
   "execution_count": 84,
   "metadata": {},
   "outputs": [
    {
     "data": {
      "text/plain": [
       "64"
      ]
     },
     "execution_count": 84,
     "metadata": {},
     "output_type": "execute_result"
    }
   ],
   "source": [
    "sum(r_cum <= 40)"
   ]
  },
  {
   "cell_type": "markdown",
   "metadata": {},
   "source": [
    "## 8. To test how well the scoring model predicts actual performance, Melrose sent the solicitation offer to all 300 persons on the holdout list. The actual response is available as the y variable in the holdout list data part of the spreadsheet. Compute the cumulative sum (aka running sum) for this y variable when the persons are sorted as in Question 3. The cumulative sum of y at rank n gives the total actual number of conversions or positive responses when the firm contacted the n customers with the highest r. Plot this cumulative sum vs the number of solicitations made. Superimpose on this the curve obtained in step 6 above to get a chart akin to slide 44 . Based on this chart, comment on the discrepancies between the actual responses and the predicted response probabilities for the prospects. Comment also on the consequent impact on the decision made in step 7 above. Hand-in: the chart and your comments."
   ]
  },
  {
   "cell_type": "code",
   "execution_count": 133,
   "metadata": {},
   "outputs": [
    {
     "data": {
      "image/png": "[encoded data removed]",
      "text/plain": [
       "<Figure size 432x288 with 1 Axes>"
      ]
     },
     "metadata": {
      "needs_background": "light"
     },
     "output_type": "display_data"
    }
   ],
   "source": [
    "y_cum = y_test.cumsum()\n",
    "\n",
    "plt.xlabel('Rank')\n",
    "plt.ylabel('Cumulative Sum')\n",
    "plt.plot(np.array(y_cum), label='y')\n",
    "plt.legend()\n",
    "plt.show()"
   ]
  },
  {
   "cell_type": "code",
   "execution_count": 135,
   "metadata": {},
   "outputs": [
    {
     "data": {
      "image/png": "[encoded data removed]",
      "text/plain": [
       "<Figure size 432x288 with 1 Axes>"
      ]
     },
     "metadata": {
      "needs_background": "light"
     },
     "output_type": "display_data"
    }
   ],
   "source": [
    "y_cum = y_test.cumsum()\n",
    "\n",
    "plt.xlabel('Rank')\n",
    "plt.ylabel('Cumulative Sum')\n",
    "plt.plot(np.array(r_cum), label='Expected (r)')\n",
    "plt.plot(np.array(y_cum), label='Actual (y)')\n",
    "plt.legend()\n",
    "plt.show()"
   ]
  },
  {
   "cell_type": "markdown",
   "metadata": {},
   "source": [
    "The actual response probabilities are consistently lower than those predicted across all ranks, indicating potential overestimation of prospect response rates by the model, likely influenced by evolving market dynamics or shifts in customer behaviors.\n",
    "\n",
    "This discrepancy consequently affects the decision outlined in step 7, where the top 40 prospects may not yield conversions as anticipated, prompting consideration for expanding the pool of solicitations. However, caution is advised against exceeding 64 solicitations, as this could escalate costs and potentially result in adverse customer experiences."
   ]
  },
  {
   "cell_type": "markdown",
   "metadata": {},
   "source": [
    "## 9.  [Optional for Extra Credit] Consequences of 80-20: Prove that if the Pareto 80-20 phenomenon holds then the average lift in the top 20% of the prospects will be 4. A good starting point is to consider the situation where you have  P prospects and C conversions. (The proof is only 1-2 lines. So if you find yourself thinking about something more complicated then I suggest you stop and return to it after some time. The proof is quite simple and so my expectation is that more than 75 percent of the students will be able to do it.)\n",
    "\n",
    "\n",
    "$P_{20}$: Top 20% prospects\n",
    "\n",
    "$C_{20}$: Conversions from top 20% prospects\n",
    "\n",
    "$lift_{20}$: Average lift in top 20% prospects\n",
    "\n",
    "\n",
    "\n",
    "$P_{20} = \\frac{20}{100} * P = 0.2P$\n",
    "\n",
    "According to the Pareto principle, 20% prospects will result in 80% conversions: $C_{20} = \\frac{80}{100} * C = 0.8C$\n",
    "\n",
    "$lift_{20} = \\frac{C_{20}}{P_{20}} = \\frac{0.8C}{0.2P} = \\frac{0.8}{0.2} * \\frac{C}{P} = 4 * \\frac{C}{P}$\n",
    "\n",
    "Therefore, if the Pareto 80-20 phenomenon holds then the average lift in the top 20% of the prospects will be 4."
   ]
  },
  {
   "cell_type": "markdown",
   "metadata": {},
   "source": [
    "## 10. Using generative AI tools\n",
    "\n",
    "## (a)\n",
    "1. python print regression result as score equation with coefficients, intercept, and vairable names\n",
    "\n",
    "## (b)\n",
    "ChatGpt\n",
    "\n",
    "## (c)"
   ]
  },
  {
   "cell_type": "code",
   "execution_count": null,
   "metadata": {},
   "outputs": [],
   "source": [
    "import statsmodels.api as sm\n",
    "\n",
    "# Fit your model\n",
    "model = sm.Logit(y, X)\n",
    "result = model.fit()\n",
    "\n",
    "# Get coefficients\n",
    "coefficients = result.params\n",
    "\n",
    "# Get intercept\n",
    "intercept = result.params['Intercept']\n",
    "\n",
    "# Get variable names\n",
    "variable_names = X.columns.tolist()  # Assuming X is a pandas DataFrame\n",
    "\n",
    "# Print the equation\n",
    "equation = f'Logit(p) = {intercept:.2f}'\n",
    "\n",
    "for i, coef in enumerate(coefficients):\n",
    "    equation += f' + {coef:.2f}*{variable_names[i]}'\n",
    "\n",
    "print(\"Logit Regression Equation:\")\n",
    "print(equation)"
   ]
  }
 ],
 "metadata": {
  "kernelspec": {
   "display_name": "Python 3 (ipykernel)",
   "language": "python",
   "name": "python3"
  },
  "language_info": {
   "codemirror_mode": {
    "name": "ipython",
    "version": 3
   },
   "file_extension": ".py",
   "mimetype": "text/x-python",
   "name": "python",
   "nbconvert_exporter": "python",
   "pygments_lexer": "ipython3",
   "version": "3.9.12"
  }
 },
 "nbformat": 4,
 "nbformat_minor": 2
}
